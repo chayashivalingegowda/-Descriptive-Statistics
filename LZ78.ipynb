{
  "nbformat": 4,
  "nbformat_minor": 0,
  "metadata": {
    "colab": {
      "name": "Untitled1.ipynb",
      "provenance": [],
      "authorship_tag": "ABX9TyNypqcAgOp5j7fZSxo7iW5S",
      "include_colab_link": true
    },
    "kernelspec": {
      "name": "python3",
      "display_name": "Python 3"
    }
  },
  "cells": [
    {
      "cell_type": "markdown",
      "metadata": {
        "id": "view-in-github",
        "colab_type": "text"
      },
      "source": [
        "<a href=\"https://colab.research.google.com/github/chayashivalingegowda/-Descriptive-Statistics/blob/master/LZ78.ipynb\" target=\"_parent\"><img src=\"https://colab.research.google.com/assets/colab-badge.svg\" alt=\"Open In Colab\"/></a>"
      ]
    },
    {
      "cell_type": "code",
      "metadata": {
        "id": "3SbcITfr4Ic1",
        "colab_type": "code",
        "colab": {}
      },
      "source": [
        "def encodeLZ(FileIn, FileOut):\n",
        "    input_file = open(FileIn, 'r')\n",
        "    encoded_file = open(FileOut, 'w')\n",
        "    text_from_file = input_file.read()\n",
        "    dict_of_codes = {text_from_file[0]: '1'}\n",
        "    encoded_file.write('0' + text_from_file[0])\n",
        "    text_from_file = text_from_file[1:]\n",
        "    combination = ''\n",
        "    code = 2\n",
        "    for char in text_from_file:\n",
        "        combination += char\n",
        "        if combination not in dict_of_codes:\n",
        "            dict_of_codes[combination] = str(code)\n",
        "            if len(combination) == 1:\n",
        "                encoded_file.write('0' + combination)\n",
        "            else:\n",
        "                encoded_file.write(dict_of_codes[combination[0:-1]] + combination[-1])\n",
        "            code += 1\n",
        "            combination = ''\n",
        "    input_file.close()\n",
        "    encoded_file.close()\n",
        "    return True\n",
        "\n",
        "\n",
        "def decodeLZ(FileIn, FileOut):\n",
        "    coded_file = open(FileIn, 'r')\n",
        "    decoded_file = open(FileOut, 'w')\n",
        "    text_from_file = coded_file.read()\n",
        "    dict_of_codes = {'0': '', '1': text_from_file[1]}\n",
        "    decoded_file.write(dict_of_codes['1'])\n",
        "    text_from_file = text_from_file[2:]\n",
        "    combination = ''\n",
        "    code = 2\n",
        "    for char in text_from_file:\n",
        "        if char in '1234567890':\n",
        "            combination += char\n",
        "        else:\n",
        "            dict_of_codes[str(code)] = dict_of_codes[combination] + char\n",
        "            decoded_file.write(dict_of_codes[combination] + char)\n",
        "            combination = ''\n",
        "            code += 1\n",
        "    coded_file.close()\n",
        "    decoded_file.close()"
      ],
      "execution_count": 1,
      "outputs": []
    },
    {
      "cell_type": "code",
      "metadata": {
        "id": "AUE8ZJp96j3B",
        "colab_type": "code",
        "colab": {
          "base_uri": "https://localhost:8080/",
          "height": 282
        },
        "outputId": "1a0243fd-12ca-417c-c8fb-f207d805877f"
      },
      "source": [
        "encodeLZ('ex2.txt','new1.txt')"
      ],
      "execution_count": 7,
      "outputs": [
        {
          "output_type": "error",
          "ename": "FileNotFoundError",
          "evalue": "ignored",
          "traceback": [
            "\u001b[0;31m---------------------------------------------------------------------------\u001b[0m",
            "\u001b[0;31mFileNotFoundError\u001b[0m                         Traceback (most recent call last)",
            "\u001b[0;32m<ipython-input-7-985698f00eaf>\u001b[0m in \u001b[0;36m<module>\u001b[0;34m()\u001b[0m\n\u001b[0;32m----> 1\u001b[0;31m \u001b[0mencodeLZ\u001b[0m\u001b[0;34m(\u001b[0m\u001b[0;34m'ex2.txt'\u001b[0m\u001b[0;34m,\u001b[0m\u001b[0;34m'new1.txt'\u001b[0m\u001b[0;34m)\u001b[0m\u001b[0;34m\u001b[0m\u001b[0;34m\u001b[0m\u001b[0m\n\u001b[0m",
            "\u001b[0;32m<ipython-input-1-79a6217ac0cb>\u001b[0m in \u001b[0;36mencodeLZ\u001b[0;34m(FileIn, FileOut)\u001b[0m\n\u001b[1;32m      1\u001b[0m \u001b[0;32mdef\u001b[0m \u001b[0mencodeLZ\u001b[0m\u001b[0;34m(\u001b[0m\u001b[0mFileIn\u001b[0m\u001b[0;34m,\u001b[0m \u001b[0mFileOut\u001b[0m\u001b[0;34m)\u001b[0m\u001b[0;34m:\u001b[0m\u001b[0;34m\u001b[0m\u001b[0;34m\u001b[0m\u001b[0m\n\u001b[0;32m----> 2\u001b[0;31m     \u001b[0minput_file\u001b[0m \u001b[0;34m=\u001b[0m \u001b[0mopen\u001b[0m\u001b[0;34m(\u001b[0m\u001b[0mFileIn\u001b[0m\u001b[0;34m,\u001b[0m \u001b[0;34m'r'\u001b[0m\u001b[0;34m)\u001b[0m\u001b[0;34m\u001b[0m\u001b[0;34m\u001b[0m\u001b[0m\n\u001b[0m\u001b[1;32m      3\u001b[0m     \u001b[0mencoded_file\u001b[0m \u001b[0;34m=\u001b[0m \u001b[0mopen\u001b[0m\u001b[0;34m(\u001b[0m\u001b[0mFileOut\u001b[0m\u001b[0;34m,\u001b[0m \u001b[0;34m'w'\u001b[0m\u001b[0;34m)\u001b[0m\u001b[0;34m\u001b[0m\u001b[0;34m\u001b[0m\u001b[0m\n\u001b[1;32m      4\u001b[0m     \u001b[0mtext_from_file\u001b[0m \u001b[0;34m=\u001b[0m \u001b[0minput_file\u001b[0m\u001b[0;34m.\u001b[0m\u001b[0mread\u001b[0m\u001b[0;34m(\u001b[0m\u001b[0;34m)\u001b[0m\u001b[0;34m\u001b[0m\u001b[0;34m\u001b[0m\u001b[0m\n\u001b[1;32m      5\u001b[0m     \u001b[0mdict_of_codes\u001b[0m \u001b[0;34m=\u001b[0m \u001b[0;34m{\u001b[0m\u001b[0mtext_from_file\u001b[0m\u001b[0;34m[\u001b[0m\u001b[0;36m0\u001b[0m\u001b[0;34m]\u001b[0m\u001b[0;34m:\u001b[0m \u001b[0;34m'1'\u001b[0m\u001b[0;34m}\u001b[0m\u001b[0;34m\u001b[0m\u001b[0;34m\u001b[0m\u001b[0m\n",
            "\u001b[0;31mFileNotFoundError\u001b[0m: [Errno 2] No such file or directory: 'ex2.txt'"
          ]
        }
      ]
    },
    {
      "cell_type": "code",
      "metadata": {
        "id": "4MPtvp2s4sSP",
        "colab_type": "code",
        "colab": {}
      },
      "source": [
        ""
      ],
      "execution_count": null,
      "outputs": []
    }
  ]
}